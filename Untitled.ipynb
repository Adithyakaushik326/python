{
 "cells": [
  {
   "cell_type": "code",
   "execution_count": 2,
   "metadata": {},
   "outputs": [
    {
     "name": "stdout",
     "output_type": "stream",
     "text": [
      "enter array0,1,0,1,0,0,0,1,1,1,0,0,0,0\n",
      "0,0,0,0,0,0,0,0,0,1,1,1,1,1\n"
     ]
    }
   ],
   "source": [
    "arr = input(\"enter array\").split(\",\")\n",
    "arr =sorted(arr)\n",
    "print(\",\".join(arr))"
   ]
  },
  {
   "cell_type": "code",
   "execution_count": 26,
   "metadata": {},
   "outputs": [
    {
     "name": "stdout",
     "output_type": "stream",
     "text": [
      "enter string1adi\n",
      "enter string2abhi\n",
      "False\n"
     ]
    }
   ],
   "source": [
    "str1 = input(\"enter string1\")\n",
    "str2 = input(\"enter string2\")\n",
    "from collections import Counter\n",
    "a = Counter(str1)\n",
    "b = Counter(str2)\n",
    "print(a==b)"
   ]
  },
  {
   "cell_type": "code",
   "execution_count": 46,
   "metadata": {},
   "outputs": [
    {
     "name": "stdout",
     "output_type": "stream",
     "text": [
      "enter arr192,1212,3232,12,323,12,13,234,312,1212\n",
      "1212\n",
      "12\n"
     ]
    }
   ],
   "source": [
    "arr = input(\"enter arr\").split(\",\")\n",
    "for i in range(len(arr)):\n",
    "    for j in range(i+1,len(arr)):\n",
    "        if arr[i]==arr[j]:\n",
    "            print(arr[i])"
   ]
  },
  {
   "cell_type": "code",
   "execution_count": 51,
   "metadata": {},
   "outputs": [
    {
     "name": "stdout",
     "output_type": "stream",
     "text": [
      "enter arrgreen, green , blue , yellow , orange, blue , orange, yellow , green , white, blue , orange,black, orange\n",
      "5\n"
     ]
    }
   ],
   "source": [
    "import math\n",
    "arr = input(\"enter arr\").split(\",\")\n",
    "print(math.ceil(len(arr)/3))"
   ]
  },
  {
   "cell_type": "code",
   "execution_count": 198,
   "metadata": {},
   "outputs": [
    {
     "name": "stdout",
     "output_type": "stream",
     "text": [
      "enter arrgreen,blue,green,yellow,orange,blue\n",
      "2\n"
     ]
    }
   ],
   "source": [
    "arr = input(\"enter arr\").split(\",\")\n",
    "b=0\n",
    "g=0\n",
    "h=0\n",
    "for i in arr:\n",
    "    if i =='blue':\n",
    "        b+=1\n",
    "    elif i =='green':\n",
    "        g+=1\n",
    "        \n",
    "    else:\n",
    "        h+=1\n",
    "        \n",
    "box = 0\n",
    "box += b//3 + g//3\n",
    "if h>0:\n",
    "    h = h-(3-b%3)\n",
    "    box+=1\n",
    "if h>0:\n",
    "    h = h-(3-g%3)\n",
    "    box+=1\n",
    "if h%3==0:\n",
    "    box +=abs(h)//3\n",
    "elif h%3>0:\n",
    "    box +=1      \n",
    "print(box)"
   ]
  },
  {
   "cell_type": "code",
   "execution_count": 193,
   "metadata": {},
   "outputs": [],
   "source": [
    "box = 0\n",
    "box += b//3 + g//3\n",
    "if h>0:\n",
    "    h = h-(3-b%3)\n",
    "    box+=1\n",
    "if h>0:\n",
    "    h = h-(3-g%3)\n",
    "    box+=1\n",
    "if h%3==0:\n",
    "    box +=abs(h)//3\n",
    "elif h%3>0:\n",
    "    box +=1"
   ]
  },
  {
   "cell_type": "code",
   "execution_count": 188,
   "metadata": {},
   "outputs": [
    {
     "data": {
      "text/plain": [
       "2"
      ]
     },
     "execution_count": 188,
     "metadata": {},
     "output_type": "execute_result"
    }
   ],
   "source": [
    "box"
   ]
  },
  {
   "cell_type": "code",
   "execution_count": 196,
   "metadata": {},
   "outputs": [
    {
     "data": {
      "text/plain": [
       "1"
      ]
     },
     "execution_count": 196,
     "metadata": {},
     "output_type": "execute_result"
    }
   ],
   "source": [
    "h-(3-g%3)\n"
   ]
  },
  {
   "cell_type": "code",
   "execution_count": 190,
   "metadata": {},
   "outputs": [
    {
     "data": {
      "text/plain": [
       "0"
      ]
     },
     "execution_count": 190,
     "metadata": {},
     "output_type": "execute_result"
    }
   ],
   "source": [
    "b//3 + g//3\n"
   ]
  },
  {
   "cell_type": "code",
   "execution_count": 197,
   "metadata": {},
   "outputs": [
    {
     "data": {
      "text/plain": [
       "2"
      ]
     },
     "execution_count": 197,
     "metadata": {},
     "output_type": "execute_result"
    }
   ],
   "source": [
    "h"
   ]
  },
  {
   "cell_type": "code",
   "execution_count": null,
   "metadata": {},
   "outputs": [],
   "source": []
  }
 ],
 "metadata": {
  "kernelspec": {
   "display_name": "Python 3",
   "language": "python",
   "name": "python3"
  },
  "language_info": {
   "codemirror_mode": {
    "name": "ipython",
    "version": 3
   },
   "file_extension": ".py",
   "mimetype": "text/x-python",
   "name": "python",
   "nbconvert_exporter": "python",
   "pygments_lexer": "ipython3",
   "version": "3.7.4"
  }
 },
 "nbformat": 4,
 "nbformat_minor": 2
}
