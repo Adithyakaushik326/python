{
 "cells": [
  {
   "cell_type": "code",
   "execution_count": 5,
   "metadata": {},
   "outputs": [
    {
     "name": "stdout",
     "output_type": "stream",
     "text": [
      "names adi abhi ani amey bhavya manthan mani janvi bhoomika harshitha adith mp\n",
      "team 1 : mani and harshitha\n",
      "team 2 : adi and bhavya\n",
      "team 3 : bhoomika and manthan\n",
      "team 4 : ani and mp\n",
      "team 5 : adith and janvi\n",
      "team 6 : amey and abhi\n"
     ]
    }
   ],
   "source": [
    "import random as r\n",
    "\n",
    "teams=[]\n",
    "\n",
    "players = input(\"names \").split(\" \")\n",
    "\n",
    "r.shuffle(players) #shuffles the list\n",
    "\n",
    "while(len(players)>=2):\n",
    "    member1 = r.choice(players)\n",
    "    players.remove(member1)\n",
    "    member2 = r.choice(players)\n",
    "    players.remove(member2)\n",
    "    teams.append([member1,member2])    \n",
    "\n",
    "for i in range(len(teams)):\n",
    "    print(f\"team {i+1} : {teams[i][0]} and {teams[i][1]}\")\n",
    "    \n",
    "if(len(players)==1):\n",
    "    print(f\"{players[0]} is joker\")"
   ]
  },
  {
   "cell_type": "code",
   "execution_count": null,
   "metadata": {},
   "outputs": [],
   "source": []
  }
 ],
 "metadata": {
  "kernelspec": {
   "display_name": "Python 3",
   "language": "python",
   "name": "python3"
  },
  "language_info": {
   "codemirror_mode": {
    "name": "ipython",
    "version": 3
   },
   "file_extension": ".py",
   "mimetype": "text/x-python",
   "name": "python",
   "nbconvert_exporter": "python",
   "pygments_lexer": "ipython3",
   "version": "3.7.4"
  }
 },
 "nbformat": 4,
 "nbformat_minor": 2
}
