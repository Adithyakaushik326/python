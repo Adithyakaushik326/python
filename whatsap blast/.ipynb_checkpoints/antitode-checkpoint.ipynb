{
 "cells": [
  {
   "cell_type": "code",
   "execution_count": 1,
   "metadata": {},
   "outputs": [],
   "source": [
    "from selenium import webdriver\n",
    "import time"
   ]
  },
  {
   "cell_type": "code",
   "execution_count": 2,
   "metadata": {},
   "outputs": [],
   "source": [
    "driver = webdriver.Chrome(r'D:\\Projects\\chromedriver.exe')\n",
    "driver.get(\"https://web.whatsapp.com/\")"
   ]
  },
  {
   "cell_type": "code",
   "execution_count": 20,
   "metadata": {},
   "outputs": [],
   "source": [
    "for i in range(2):    \n",
    "    driver.find_element_by_css_selector('div._2S1VP:nth-child(2)').send_keys('MESSAGE FROM')\n",
    "    driver.find_element_by_css_selector('div._2S1VP:nth-child(2)').send_keys(u'\\ue007')\n",
    "    driver.find_element_by_css_selector('div._3Kxus > div.rAUz7:nth-child(3)').click() \n",
    "    e = driver.find_element_by_css_selector('li._36Zz0:nth-child(5) > div.Pm0Ov')\n",
    "    driver.execute_script(\"arguments[0].click();\", e)\n",
    "    time.sleep(1)\n",
    "    driver.find_element_by_class_name('PNlAR').click()\n",
    "    time.sleep(3)\n",
    "    driver.find_element_by_css_selector('div._3Kxus > div.rAUz7:nth-child(2)').click()\n",
    "    time.sleep(1)\n",
    "    p = driver.find_element_by_css_selector('li._36Zz0:nth-child(4) > div.Pm0Ov')\n",
    "    driver.execute_script(\"arguments[0].click();\", p)\n",
    "    time.sleep(1)\n",
    "    driver.find_element_by_class_name('PNlAR').click()\n",
    "    time.sleep(3)"
   ]
  },
  {
   "cell_type": "code",
   "execution_count": 10,
   "metadata": {},
   "outputs": [],
   "source": []
  },
  {
   "cell_type": "code",
   "execution_count": 11,
   "metadata": {},
   "outputs": [],
   "source": [
    "driver.find_element_by_css_selector('div._3Kxus > div.rAUz7:nth-child(2)').click()\n",
    "time.sleep(1)\n",
    "p = driver.find_element_by_css_selector('li._36Zz0:nth-child(4) > div.Pm0Ov')\n",
    "driver.execute_script(\"arguments[0].click();\", p)\n",
    "time.sleep(1)\n",
    "driver.find_element_by_class_name('PNlAR').click()"
   ]
  },
  {
   "cell_type": "code",
   "execution_count": null,
   "metadata": {},
   "outputs": [],
   "source": []
  }
 ],
 "metadata": {
  "kernelspec": {
   "display_name": "Python 3",
   "language": "python",
   "name": "python3"
  },
  "language_info": {
   "codemirror_mode": {
    "name": "ipython",
    "version": 3
   },
   "file_extension": ".py",
   "mimetype": "text/x-python",
   "name": "python",
   "nbconvert_exporter": "python",
   "pygments_lexer": "ipython3",
   "version": "3.7.4"
  }
 },
 "nbformat": 4,
 "nbformat_minor": 2
}
