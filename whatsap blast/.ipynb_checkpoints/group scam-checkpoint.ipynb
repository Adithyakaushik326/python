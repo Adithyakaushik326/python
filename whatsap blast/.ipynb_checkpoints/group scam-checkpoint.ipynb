{
 "cells": [
  {
   "cell_type": "code",
   "execution_count": 1,
   "metadata": {},
   "outputs": [],
   "source": [
    "from selenium import webdriver\n",
    "import time"
   ]
  },
  {
   "cell_type": "code",
   "execution_count": 2,
   "metadata": {},
   "outputs": [],
   "source": [
    "driver = webdriver.Chrome(r'D:\\Projects\\chromedriver.exe')\n",
    "driver.get(\"https://web.whatsapp.com/\")"
   ]
  },
  {
   "cell_type": "code",
   "execution_count": null,
   "metadata": {},
   "outputs": [],
   "source": [
    "for i in range(100,0,-1):\n",
    "    driver.find_element_by_css_selector('div.rAUz7:nth-child(2)').click()\n",
    "    \n",
    "    driver.find_element_by_class_name('_25Ooe').click()\n",
    "    driver.find_element_by_class_name('_16RnB').send_keys('Bhavya')\n",
    "    \n",
    "    driver.find_element_by_class_name('_16RnB').send_keys(u'\\ue007')\n",
    "    driver.find_element_by_class_name('_16RnB').send_keys(u'\\ue007')\n",
    "#     driver.find_element_by_class_name('_3hV1n').click()\n",
    "    driver.find_element_by_class_name('_2S1VP').send_keys('HAPPY BIRTHDAY!!'+str(i))\n",
    "#     time.sleep(1)\n",
    "    driver.find_element_by_class_name('_3hV1n').click()\n",
    "    # driver.find_element_by_class_name('_3F6QL').send_keys('hello')\n",
    "    time.sleep(1)\n",
    "    driver.find_element_by_css_selector('div._2S1VP:nth-child(2)').send_keys('HAPPY ')\n",
    "    time.sleep(2)\n",
    "    driver.find_element_by_css_selector('div._2S1VP:nth-child(2)').send_keys(u'\\ue007')\n",
    "    \n",
    "    for i in range(3):\n",
    "        driver.find_element_by_css_selector('div._2WovP > div._2S1VP').send_keys('HAPPIEEE BIRTHDAY')\n",
    "        driver.find_element_by_css_selector('div._2WovP > div._2S1VP').send_keys(u'\\ue007')\n",
    "    time.sleep(1)\n",
    "    driver.find_element_by_css_selector('div._3Kxus > div.rAUz7:nth-child(3)').click() \n",
    "    e = driver.find_element_by_css_selector('li._36Zz0:nth-child(5) > div.Pm0Ov')\n",
    "    driver.execute_script(\"arguments[0].click();\", e)\n",
    "    time.sleep(1)\n",
    "    driver.find_element_by_class_name('PNlAR').click()\n",
    "    time.sleep(3)\n",
    "    driver.find_element_by_css_selector('div._3Kxus > div.rAUz7:nth-child(2)').click()\n",
    "    time.sleep(1)\n",
    "    p = driver.find_element_by_css_selector('li._36Zz0:nth-child(4) > div.Pm0Ov')\n",
    "    driver.execute_script(\"arguments[0].click();\", p)\n",
    "    time.sleep(1)\n",
    "    driver.find_element_by_class_name('PNlAR').click()\n",
    "    time.sleep(3)\n"
   ]
  },
  {
   "cell_type": "code",
   "execution_count": null,
   "metadata": {},
   "outputs": [],
   "source": [
    "# print(\"\\U0001F617\")\n",
    "print(u'\\ufe0f') \n"
   ]
  },
  {
   "cell_type": "code",
   "execution_count": 36,
   "metadata": {},
   "outputs": [],
   "source": [
    "driver.find_element_by_css_selector('div._2WovP > div._2S1VP').send_keys('Abhi I LOVE YOUU!'+'❤️❤️❤️')\n",
    "driver.find_element_by_css_selector('div._2WovP > div._2S1VP').send_keys(u'\\ue007')"
   ]
  },
  {
   "cell_type": "code",
   "execution_count": 5,
   "metadata": {},
   "outputs": [
    {
     "name": "stdout",
     "output_type": "stream",
     "text": [
      "🎂\n"
     ]
    }
   ],
   "source": [
    "print('🎂')"
   ]
  },
  {
   "cell_type": "code",
   "execution_count": 10,
   "metadata": {},
   "outputs": [],
   "source": [
    "driver.find_element_by_css_selector('div._3Kxus > div.rAUz7:nth-child(2)').click()\n",
    "driver.find_element_by_css_selector('li._36Zz0:nth-child(4) > div.Pm0Ov').click()\n",
    "driver.find_element_by_class_name('PNlAR').click()"
   ]
  },
  {
   "cell_type": "code",
   "execution_count": 19,
   "metadata": {},
   "outputs": [],
   "source": [
    "driver.find_element_by_css_selector('div.rAUz7:nth-child(2)').click()\n",
    "driver.find_element_by_class_name('_25Ooe').click()\n",
    "driver.find_element_by_class_name('_16RnB').send_keys('amey adithya')\n",
    "driver.find_element_by_class_name('_16RnB').send_keys(u'\\ue007')\n",
    "driver.find_element_by_class_name('_3hV1n').click()\n",
    "driver.find_element_by_class_name('_2S1VP').send_keys('MESSAGE FROM BHAVYA❤️ '+str(i))\n",
    "driver.find_element_by_class_name('_3hV1n').click()\n",
    "# driver.find_element_by_class_name('_3F6QL').send_keys('hello')\n",
    "time.sleep(2)\n",
    "driver.find_element_by_css_selector('div._2S1VP:nth-child(2)').send_keys('MESSAGE FROM BHAVYA❤️ '+str(i))\n",
    "driver.find_element_by_css_selector('div._2S1VP:nth-child(2)').send_keys(u'\\ue007')\n",
    "time.sleep(1)\n",
    "for i in range(3):\n",
    "    driver.find_element_by_css_selector('div._2WovP > div._2S1VP').send_keys('Abhi I LOVE YOUU!'+'❤️❤️❤️')\n",
    "    driver.find_element_by_css_selector('div._2WovP > div._2S1VP').send_keys(u'\\ue007')\n",
    "driver.find_element_by_css_selector('div._3Kxus > div.rAUz7:nth-child(3)').click()\n",
    "time.sleep(2)"
   ]
  },
  {
   "cell_type": "code",
   "execution_count": 20,
   "metadata": {},
   "outputs": [],
   "source": [
    "driver.find_element_by_css_selector('li._36Zz0:nth-child(5) > div.Pm0Ov').click()\n",
    "driver.find_element_by_class_name('PNlAR').click()"
   ]
  },
  {
   "cell_type": "code",
   "execution_count": 21,
   "metadata": {},
   "outputs": [],
   "source": [
    "driver.find_element_by_css_selector('div._3Kxus > div.rAUz7:nth-child(2)').click()\n",
    "driver.find_element_by_css_selector('li._36Zz0:nth-child(4) > div.Pm0Ov').click()\n",
    "driver.find_element_by_class_name('PNlAR').click()"
   ]
  },
  {
   "cell_type": "code",
   "execution_count": null,
   "metadata": {},
   "outputs": [],
   "source": [
    "    "
   ]
  }
 ],
 "metadata": {
  "kernelspec": {
   "display_name": "Python 3",
   "language": "python",
   "name": "python3"
  },
  "language_info": {
   "codemirror_mode": {
    "name": "ipython",
    "version": 3
   },
   "file_extension": ".py",
   "mimetype": "text/x-python",
   "name": "python",
   "nbconvert_exporter": "python",
   "pygments_lexer": "ipython3",
   "version": "3.7.4"
  }
 },
 "nbformat": 4,
 "nbformat_minor": 2
}
